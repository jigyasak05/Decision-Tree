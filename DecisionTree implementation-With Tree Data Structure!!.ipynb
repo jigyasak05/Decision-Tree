{
 "cells": [
  {
   "cell_type": "code",
   "execution_count": 1,
   "metadata": {},
   "outputs": [],
   "source": [
    "import numpy as np\n",
    "from sklearn import datasets\n",
    "import pandas as pd\n",
    "from sklearn.tree import DecisionTreeClassifier\n",
    "import math"
   ]
  },
  {
   "cell_type": "code",
   "execution_count": 2,
   "metadata": {},
   "outputs": [],
   "source": [
    "iris = datasets.load_iris()\n",
    "df = pd.DataFrame(iris.data, columns=iris.feature_names)\n",
    "y = iris.target\n",
    "x=iris.data"
   ]
  },
  {
   "cell_type": "code",
   "execution_count": 3,
   "metadata": {},
   "outputs": [
    {
     "data": {
      "text/html": [
       "<div>\n",
       "<style scoped>\n",
       "    .dataframe tbody tr th:only-of-type {\n",
       "        vertical-align: middle;\n",
       "    }\n",
       "\n",
       "    .dataframe tbody tr th {\n",
       "        vertical-align: top;\n",
       "    }\n",
       "\n",
       "    .dataframe thead th {\n",
       "        text-align: right;\n",
       "    }\n",
       "</style>\n",
       "<table border=\"1\" class=\"dataframe\">\n",
       "  <thead>\n",
       "    <tr style=\"text-align: right;\">\n",
       "      <th></th>\n",
       "      <th>sepal length (cm)</th>\n",
       "      <th>sepal width (cm)</th>\n",
       "      <th>petal length (cm)</th>\n",
       "      <th>petal width (cm)</th>\n",
       "    </tr>\n",
       "  </thead>\n",
       "  <tbody>\n",
       "    <tr>\n",
       "      <th>0</th>\n",
       "      <td>5.1</td>\n",
       "      <td>3.5</td>\n",
       "      <td>1.4</td>\n",
       "      <td>0.2</td>\n",
       "    </tr>\n",
       "    <tr>\n",
       "      <th>1</th>\n",
       "      <td>4.9</td>\n",
       "      <td>3.0</td>\n",
       "      <td>1.4</td>\n",
       "      <td>0.2</td>\n",
       "    </tr>\n",
       "    <tr>\n",
       "      <th>2</th>\n",
       "      <td>4.7</td>\n",
       "      <td>3.2</td>\n",
       "      <td>1.3</td>\n",
       "      <td>0.2</td>\n",
       "    </tr>\n",
       "    <tr>\n",
       "      <th>3</th>\n",
       "      <td>4.6</td>\n",
       "      <td>3.1</td>\n",
       "      <td>1.5</td>\n",
       "      <td>0.2</td>\n",
       "    </tr>\n",
       "    <tr>\n",
       "      <th>4</th>\n",
       "      <td>5.0</td>\n",
       "      <td>3.6</td>\n",
       "      <td>1.4</td>\n",
       "      <td>0.2</td>\n",
       "    </tr>\n",
       "  </tbody>\n",
       "</table>\n",
       "</div>"
      ],
      "text/plain": [
       "   sepal length (cm)  sepal width (cm)  petal length (cm)  petal width (cm)\n",
       "0                5.1               3.5                1.4               0.2\n",
       "1                4.9               3.0                1.4               0.2\n",
       "2                4.7               3.2                1.3               0.2\n",
       "3                4.6               3.1                1.5               0.2\n",
       "4                5.0               3.6                1.4               0.2"
      ]
     },
     "execution_count": 3,
     "metadata": {},
     "output_type": "execute_result"
    }
   ],
   "source": [
    "df.head()"
   ]
  },
  {
   "cell_type": "code",
   "execution_count": 4,
   "metadata": {},
   "outputs": [
    {
     "data": {
      "text/plain": [
       "['sepal length (cm)',\n",
       " 'sepal width (cm)',\n",
       " 'petal length (cm)',\n",
       " 'petal width (cm)']"
      ]
     },
     "execution_count": 4,
     "metadata": {},
     "output_type": "execute_result"
    }
   ],
   "source": [
    "iris.feature_names"
   ]
  },
  {
   "cell_type": "code",
   "execution_count": 5,
   "metadata": {},
   "outputs": [
    {
     "data": {
      "text/plain": [
       "array([0, 0, 0, 0, 0, 0, 0, 0, 0, 0, 0, 0, 0, 0, 0, 0, 0, 0, 0, 0, 0, 0,\n",
       "       0, 0, 0, 0, 0, 0, 0, 0, 0, 0, 0, 0, 0, 0, 0, 0, 0, 0, 0, 0, 0, 0,\n",
       "       0, 0, 0, 0, 0, 0, 1, 1, 1, 1, 1, 1, 1, 1, 1, 1, 1, 1, 1, 1, 1, 1,\n",
       "       1, 1, 1, 1, 1, 1, 1, 1, 1, 1, 1, 1, 1, 1, 1, 1, 1, 1, 1, 1, 1, 1,\n",
       "       1, 1, 1, 1, 1, 1, 1, 1, 1, 1, 1, 1, 2, 2, 2, 2, 2, 2, 2, 2, 2, 2,\n",
       "       2, 2, 2, 2, 2, 2, 2, 2, 2, 2, 2, 2, 2, 2, 2, 2, 2, 2, 2, 2, 2, 2,\n",
       "       2, 2, 2, 2, 2, 2, 2, 2, 2, 2, 2, 2, 2, 2, 2, 2, 2, 2])"
      ]
     },
     "execution_count": 5,
     "metadata": {},
     "output_type": "execute_result"
    }
   ],
   "source": [
    "y"
   ]
  },
  {
   "cell_type": "code",
   "execution_count": 6,
   "metadata": {},
   "outputs": [],
   "source": [
    "def entropy(arr, total):\n",
    "    sum=0    # arr is an array of count of zeroes, ones and twos in  case of iris dataset!\n",
    "    for i in range(len(arr)):\n",
    "        if(arr[i]==0):\n",
    "            continue\n",
    "        sum-=(arr[i]/total)*math.log2(arr[i]/total)\n",
    "    return sum"
   ]
  },
  {
   "cell_type": "code",
   "execution_count": 7,
   "metadata": {},
   "outputs": [],
   "source": [
    "class TreeNode:\n",
    "\n",
    "    def __init__(self, data,CurrLevel,yValues,gr=-10000000000,entropy=-1, message=\"\",splitIndex=-1,splitValue=0,classValue=None):\n",
    "     \n",
    "        self.left = None\n",
    "        self.right = None\n",
    "        self.dataArray = data\n",
    "        self.level=CurrLevel\n",
    "        self.gainRatio=gr\n",
    "        self.entropy=entropy\n",
    "        self.message=message\n",
    "        self.yValues=yValues\n",
    "        self.splitIndex=splitIndex\n",
    "        self.splitValue=splitValue\n",
    "        self.classValue=classValue\n",
    "        "
   ]
  },
  {
   "cell_type": "code",
   "execution_count": 8,
   "metadata": {},
   "outputs": [
    {
     "data": {
      "text/plain": [
       "(150,)"
      ]
     },
     "execution_count": 8,
     "metadata": {},
     "output_type": "execute_result"
    }
   ],
   "source": [
    "mean=np.zeros(x.shape[1])\n",
    "mean=mean.reshape(1,4)\n",
    "y.shape"
   ]
  },
  {
   "cell_type": "code",
   "execution_count": 9,
   "metadata": {},
   "outputs": [],
   "source": [
    "def infoGain(arr1,arr2,arr3):\n",
    "    t=arr1.sum()\n",
    "    oldEntropy=entropy(arr1,arr1.sum())\n",
    "    newEntropy=(arr2.sum()*entropy(arr2,arr2.sum())+arr3.sum()*entropy(arr3,arr3.sum()))/t\n",
    "    return oldEntropy-newEntropy"
   ]
  },
  {
   "cell_type": "code",
   "execution_count": 10,
   "metadata": {},
   "outputs": [],
   "source": [
    "def gainRatio(infoGain, splits=2):\n",
    "    return infoGain/splits"
   ]
  },
  {
   "cell_type": "code",
   "execution_count": 12,
   "metadata": {},
   "outputs": [],
   "source": [
    "visited=[False, False,False, False]\n",
    "# A VISITED ARRAY MAINTAINED TO KEEP A CHECK ON WHAT ALL FEATURES HAVE BEEN TRAVERSED\n",
    "def recursion_Tree_Formation(arr, level, mean, visited, No_of_visited, xoutput, youtput, root):\n",
    "    e=entropy(arr,arr.sum())\n",
    "    \n",
    "    root.data=arr\n",
    "    root.entropy=e\n",
    "    \n",
    "    \n",
    "    if e==0:\n",
    "       # Leaf Node\n",
    "       # Formation of pure Node\n",
    "        classValue=-1\n",
    "        for i in range(3):\n",
    "            if(arr[i]!=0):\n",
    "                classValue=i\n",
    "                break\n",
    "        root.classValue=classValue\n",
    "        root.left=None\n",
    "        root.right=None\n",
    "        root.message= \"Pure Node Formed\"\n",
    "        \n",
    "        return\n",
    "    \n",
    "    if(No_of_visited==4):  \n",
    "        # All features traversed\n",
    "        # Leaf Node\n",
    "        freq=-1\n",
    "        majorityClass=-1\n",
    "        for i in range(3):\n",
    "            if(arr[i]>freq):\n",
    "                freq=arr[i]\n",
    "                majorityClass=i\n",
    "        root.classValue=majorityClass\n",
    "        root.left=None\n",
    "        root.right=None\n",
    "        root.message= \"All features traversed\"\n",
    "        \n",
    "        return\n",
    "    \n",
    "    \n",
    "    #  otherwise splitting on feature.. with gain ratio..\n",
    "    for i in range(4):\n",
    "        mean[0,i]=xoutput[:,i].mean()\n",
    "       \n",
    "    # initially some value of gain ratio is considered\n",
    "    gain_ratio=-10000000000\n",
    "    index=0\n",
    "    # A count of the each class value is maintained for calculating entropy\n",
    "    LEFT =np.zeros(3)   \n",
    "    RIGHT=np.zeros(3)      \n",
    "    # includes rows when splitting is done\n",
    "    LeftOutput=np.zeros((1,4))    \n",
    "    RightOutput=np.zeros((1,4))\n",
    "# traversing every column (feature) to identify the feature on the basis of which splitting is to be done\n",
    "# feature with max gain ratio will be selected\n",
    "    for i in range(4):\n",
    "        \n",
    "        if(visited[i]==False):\n",
    "            left=np.zeros(3)\n",
    "            right=np.zeros(3)\n",
    "            temp=xoutput[:,i] # the current column \n",
    "            for j in range(xoutput.shape[0]):\n",
    "                if temp[j]<mean[0,i]:\n",
    "                    left[int(youtput[j])]+=1\n",
    "                else:\n",
    "                    right[int(youtput[j])]+=1\n",
    "            informationGain=infoGain(arr,left,right)\n",
    "            gr=gainRatio(informationGain,2)\n",
    "            \n",
    "            if gr>gain_ratio:\n",
    "                gain_ratio=gr\n",
    "                index=i\n",
    "                LEFT=left\n",
    "                RIGHT=right\n",
    "    visited[index]=True\n",
    "    \n",
    "    # Arrays resulted when splitting is done- LeftOutput, RightOutput\n",
    "    # Arrays keeping a record of corresponding y values- yOutputLeft, yOutputRight\n",
    "    LeftOutput  = np.vstack((LeftOutput, xoutput[xoutput[:,index] < mean[0,index]])) \n",
    "    LeftOutput  = LeftOutput[1:,:]\n",
    "    yOutputLeft = np.zeros(LeftOutput.shape[0],)\n",
    "    \n",
    "    RightOutput = np.vstack((RightOutput, xoutput[xoutput[:,index] >= mean[0,index]])) \n",
    "    RightOutput = RightOutput[1:,:]\n",
    "    yOutputRight=np.zeros(RightOutput.shape[0])\n",
    "    \n",
    "    l=0\n",
    "    r=0\n",
    "    for i in range(xoutput.shape[0]):\n",
    "        if(xoutput[i,index]<mean[0,index]):\n",
    "            yOutputLeft[l]=youtput[i]\n",
    "            l+=1\n",
    "        else:\n",
    "            yOutputRight[r]=youtput[i]\n",
    "            r+=1\n",
    "            \n",
    "    root.gainRatio=gain_ratio\n",
    "    \n",
    "    leftNode=TreeNode(LEFT,level+1,yOutputLeft)  \n",
    "    rightNode=TreeNode(RIGHT,level+1,yOutputRight)\n",
    "\n",
    "    \n",
    "    root.left=leftNode\n",
    "    root.right=rightNode\n",
    "    root.splitIndex=index\n",
    "    root.splitValue=mean[0,index]\n",
    "    # Recursive function called for complete formation of the tree\n",
    " \n",
    "    recursion_Tree_Formation(LEFT, level+1, mean, visited.copy(), No_of_visited+1, LeftOutput, yOutputLeft , root.left)\n",
    "\n",
    "    recursion_Tree_Formation(RIGHT, level+1, mean, visited.copy(), No_of_visited+1, RightOutput, yOutputRight , root.right)\n",
    "        \n",
    "        "
   ]
  },
  {
   "cell_type": "code",
   "execution_count": 13,
   "metadata": {},
   "outputs": [
    {
     "data": {
      "text/plain": [
       "array([50, 50, 50])"
      ]
     },
     "execution_count": 13,
     "metadata": {},
     "output_type": "execute_result"
    }
   ],
   "source": [
    "arr=np.arange(3)\n",
    "arr[0]=arr[1]=arr[2]=50\n",
    "arr"
   ]
  },
  {
   "cell_type": "code",
   "execution_count": 14,
   "metadata": {},
   "outputs": [
    {
     "data": {
      "text/plain": [
       "1.584962500721156"
      ]
     },
     "execution_count": 14,
     "metadata": {},
     "output_type": "execute_result"
    }
   ],
   "source": [
    "entropy(arr,arr.sum())"
   ]
  },
  {
   "cell_type": "code",
   "execution_count": 15,
   "metadata": {},
   "outputs": [],
   "source": [
    "mainRoot=TreeNode(arr,0,arr)\n"
   ]
  },
  {
   "cell_type": "code",
   "execution_count": 16,
   "metadata": {
    "scrolled": false
   },
   "outputs": [],
   "source": [
    "recursion_Tree_Formation(arr,0,mean,visited,0,x,y,mainRoot)"
   ]
  },
  {
   "cell_type": "code",
   "execution_count": 17,
   "metadata": {},
   "outputs": [],
   "source": [
    "def printTree(root):\n",
    "    if(root==None):\n",
    "        return\n",
    "    \n",
    "    arr=root.data\n",
    "    e=root.entropy\n",
    "    print(\"Level = \", root.level)\n",
    "    print(\"Count of 0 = \",arr[0])\n",
    "    print(\"Count of 1 = \",arr[1]) \n",
    "    print(\"Count of 2 = \",arr[2])\n",
    "    print(\"Current entropy is= \", e)\n",
    "    \n",
    "    if (root.left==None and root.right==None):\n",
    "        print(root.message)\n",
    "    else:   \n",
    "        print(\"Splitting on feature \",iris.feature_names[root.splitIndex],\" with gain ratio \",root.gainRatio)\n",
    "        \n",
    "    print()\n",
    "    print()\n",
    "    printTree(root.left)\n",
    "    printTree(root.right)\n",
    "    "
   ]
  },
  {
   "cell_type": "code",
   "execution_count": 18,
   "metadata": {},
   "outputs": [
    {
     "name": "stdout",
     "output_type": "stream",
     "text": [
      "Level =  0\n",
      "Count of 0 =  50\n",
      "Count of 1 =  50\n",
      "Count of 2 =  50\n",
      "Current entropy is=  1.584962500721156\n",
      "Splitting on feature  petal length (cm)  with gain ratio  0.3816478758393404\n",
      "\n",
      "\n",
      "Level =  1\n",
      "Count of 0 =  50.0\n",
      "Count of 1 =  7.0\n",
      "Count of 2 =  0.0\n",
      "Current entropy is=  0.5373760853377336\n",
      "Splitting on feature  petal width (cm)  with gain ratio  0.12992321343539348\n",
      "\n",
      "\n",
      "Level =  2\n",
      "Count of 0 =  41.0\n",
      "Count of 1 =  0.0\n",
      "Count of 2 =  0.0\n",
      "Current entropy is=  0.0\n",
      "Pure Node Formed\n",
      "\n",
      "\n",
      "Level =  2\n",
      "Count of 0 =  9.0\n",
      "Count of 1 =  7.0\n",
      "Count of 2 =  0.0\n",
      "Current entropy is=  0.9886994082884974\n",
      "Splitting on feature  sepal width (cm)  with gain ratio  0.4943497041442487\n",
      "\n",
      "\n",
      "Level =  3\n",
      "Count of 0 =  0.0\n",
      "Count of 1 =  7.0\n",
      "Count of 2 =  0.0\n",
      "Current entropy is=  0.0\n",
      "Pure Node Formed\n",
      "\n",
      "\n",
      "Level =  3\n",
      "Count of 0 =  9.0\n",
      "Count of 1 =  0.0\n",
      "Count of 2 =  0.0\n",
      "Current entropy is=  0.0\n",
      "Pure Node Formed\n",
      "\n",
      "\n",
      "Level =  1\n",
      "Count of 0 =  0.0\n",
      "Count of 1 =  43.0\n",
      "Count of 2 =  50.0\n",
      "Current entropy is=  0.9959094138937685\n",
      "Splitting on feature  petal width (cm)  with gain ratio  0.3370452207023066\n",
      "\n",
      "\n",
      "Level =  2\n",
      "Count of 0 =  0.0\n",
      "Count of 1 =  42.0\n",
      "Count of 2 =  5.0\n",
      "Current entropy is=  0.48890859144051524\n",
      "Splitting on feature  sepal width (cm)  with gain ratio  0.008285254337743603\n",
      "\n",
      "\n",
      "Level =  3\n",
      "Count of 0 =  0.0\n",
      "Count of 1 =  15.0\n",
      "Count of 2 =  3.0\n",
      "Current entropy is=  0.6500224216483541\n",
      "Splitting on feature  sepal length (cm)  with gain ratio  0.0036835304222216925\n",
      "\n",
      "\n",
      "Level =  4\n",
      "Count of 0 =  0.0\n",
      "Count of 1 =  7.0\n",
      "Count of 2 =  1.0\n",
      "Current entropy is=  0.5435644431995964\n",
      "All features traversed\n",
      "\n",
      "\n",
      "Level =  4\n",
      "Count of 0 =  0.0\n",
      "Count of 1 =  8.0\n",
      "Count of 2 =  2.0\n",
      "Current entropy is=  0.7219280948873623\n",
      "All features traversed\n",
      "\n",
      "\n",
      "Level =  3\n",
      "Count of 0 =  0.0\n",
      "Count of 1 =  27.0\n",
      "Count of 2 =  2.0\n",
      "Current entropy is=  0.362051251733998\n",
      "Splitting on feature  sepal length (cm)  with gain ratio  0.03820805862298893\n",
      "\n",
      "\n",
      "Level =  4\n",
      "Count of 0 =  0.0\n",
      "Count of 1 =  15.0\n",
      "Count of 2 =  0.0\n",
      "Current entropy is=  0.0\n",
      "Pure Node Formed\n",
      "\n",
      "\n",
      "Level =  4\n",
      "Count of 0 =  0.0\n",
      "Count of 1 =  12.0\n",
      "Count of 2 =  2.0\n",
      "Current entropy is=  0.5916727785823275\n",
      "All features traversed\n",
      "\n",
      "\n",
      "Level =  2\n",
      "Count of 0 =  0.0\n",
      "Count of 1 =  1.0\n",
      "Count of 2 =  45.0\n",
      "Current entropy is=  0.15109697051711368\n",
      "Splitting on feature  sepal width (cm)  with gain ratio  0.014985640424797567\n",
      "\n",
      "\n",
      "Level =  3\n",
      "Count of 0 =  0.0\n",
      "Count of 1 =  0.0\n",
      "Count of 2 =  28.0\n",
      "Current entropy is=  0.0\n",
      "Pure Node Formed\n",
      "\n",
      "\n",
      "Level =  3\n",
      "Count of 0 =  0.0\n",
      "Count of 1 =  1.0\n",
      "Count of 2 =  17.0\n",
      "Current entropy is=  0.3095434291503252\n",
      "Splitting on feature  sepal length (cm)  with gain ratio  0.024495160800362237\n",
      "\n",
      "\n",
      "Level =  4\n",
      "Count of 0 =  0.0\n",
      "Count of 1 =  1.0\n",
      "Count of 2 =  9.0\n",
      "Current entropy is=  0.4689955935892812\n",
      "All features traversed\n",
      "\n",
      "\n",
      "Level =  4\n",
      "Count of 0 =  0.0\n",
      "Count of 1 =  0.0\n",
      "Count of 2 =  8.0\n",
      "Current entropy is=  0.0\n",
      "Pure Node Formed\n",
      "\n",
      "\n"
     ]
    }
   ],
   "source": [
    "printTree(mainRoot)"
   ]
  },
  {
   "cell_type": "code",
   "execution_count": 19,
   "metadata": {},
   "outputs": [],
   "source": [
    "def fit(mainRoot):\n",
    "    TreeRoot=mainRoot\n",
    "    return TreeNode"
   ]
  },
  {
   "cell_type": "code",
   "execution_count": 20,
   "metadata": {},
   "outputs": [],
   "source": [
    "def predictSingle(x_tuple,root):\n",
    "    if(root.left == None and root.right==None):\n",
    "        predictedClass=root.classValue\n",
    "   \n",
    "        return predictedClass\n",
    "    \n",
    "    index=root.splitIndex\n",
    "    if(x_tuple[index]<root.splitValue):\n",
    "        root=root.left\n",
    "    else:\n",
    "        root=root.right\n",
    "    return predictSingle(x_tuple,root)    "
   ]
  },
  {
   "cell_type": "code",
   "execution_count": 21,
   "metadata": {},
   "outputs": [],
   "source": [
    "def predict(x,root):\n",
    "    y_pred=np.zeros(x.shape[0])\n",
    "    for i in range(x.shape[0]):\n",
    "        pred=predictSingle(x[i],root)\n",
    "        y_pred[i]=(pred)\n",
    "    return y_pred"
   ]
  },
  {
   "cell_type": "code",
   "execution_count": 22,
   "metadata": {},
   "outputs": [],
   "source": [
    "y_pred=predict(x,mainRoot)"
   ]
  },
  {
   "cell_type": "code",
   "execution_count": 23,
   "metadata": {},
   "outputs": [],
   "source": [
    "from sklearn.metrics import accuracy_score"
   ]
  },
  {
   "cell_type": "code",
   "execution_count": 24,
   "metadata": {},
   "outputs": [],
   "source": [
    "# converting list to numpy\n",
    "y_pred=np.asarray(y_pred)"
   ]
  },
  {
   "cell_type": "code",
   "execution_count": 25,
   "metadata": {},
   "outputs": [
    {
     "data": {
      "text/plain": [
       "0.96"
      ]
     },
     "execution_count": 25,
     "metadata": {},
     "output_type": "execute_result"
    }
   ],
   "source": [
    "accuracy_score(y_pred,y)"
   ]
  },
  {
   "cell_type": "code",
   "execution_count": null,
   "metadata": {},
   "outputs": [],
   "source": []
  }
 ],
 "metadata": {
  "kernelspec": {
   "display_name": "Python 3",
   "language": "python",
   "name": "python3"
  },
  "language_info": {
   "codemirror_mode": {
    "name": "ipython",
    "version": 3
   },
   "file_extension": ".py",
   "mimetype": "text/x-python",
   "name": "python",
   "nbconvert_exporter": "python",
   "pygments_lexer": "ipython3",
   "version": "3.7.1"
  }
 },
 "nbformat": 4,
 "nbformat_minor": 2
}
